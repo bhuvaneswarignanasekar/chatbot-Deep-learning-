{
  "cells": [
    {
      "cell_type": "markdown",
      "metadata": {
        "id": "view-in-github",
        "colab_type": "text"
      },
      "source": [
        "<a href=\"https://colab.research.google.com/github/bhuvaneswarignanasekar/chatbot-Deep-learning-/blob/main/Deep_learning_project.ipynb\" target=\"_parent\"><img src=\"https://colab.research.google.com/assets/colab-badge.svg\" alt=\"Open In Colab\"/></a>"
      ]
    },
    {
      "cell_type": "markdown",
      "metadata": {
        "id": "3YRsO362oCQX"
      },
      "source": [
        "#import"
      ]
    },
    {
      "cell_type": "code",
      "execution_count": null,
      "metadata": {
        "id": "W_mNnZQyfl7j"
      },
      "outputs": [],
      "source": [
        "import numpy as np # linear algebra\n",
        "import pandas as pd # data processing, CSV file I/O (e.g. pd.read_csv)"
      ]
    },
    {
      "cell_type": "code",
      "execution_count": null,
      "metadata": {
        "colab": {
          "base_uri": "https://localhost:8080/"
        },
        "id": "cXwjMtMWf-gf",
        "outputId": "b7cc8b7f-63e9-4356-e53a-d941986a5a5c"
      },
      "outputs": [
        {
          "name": "stdout",
          "output_type": "stream",
          "text": [
            "[nltk_data] Downloading package stopwords to /root/nltk_data...\n",
            "[nltk_data]   Unzipping corpora/stopwords.zip.\n"
          ]
        },
        {
          "data": {
            "text/plain": [
              "True"
            ]
          },
          "execution_count": 2,
          "metadata": {},
          "output_type": "execute_result"
        }
      ],
      "source": [
        "import re\n",
        "from nltk.corpus import stopwords\n",
        "import nltk\n",
        "import tensorflow as tf\n",
        "from tensorflow import keras\n",
        "from keras.preprocessing.text import Tokenizer\n",
        "from keras.preprocessing.sequence import pad_sequences\n",
        "\n",
        "import matplotlib.pyplot as plt\n",
        "import seaborn as sns\n",
        "sns.set_style(\"whitegrid\")\n",
        "\n",
        "from keras.layers import Input,Embedding,Bidirectional,LSTM,Dense,Concatenate\n",
        "from keras.models import Model\n",
        "nltk.download('stopwords')"
      ]
    },
    {
      "cell_type": "code",
      "execution_count": null,
      "metadata": {
        "colab": {
          "base_uri": "https://localhost:8080/"
        },
        "id": "MHgqPx9vEW5U",
        "outputId": "ed83db51-702e-43bc-bf79-72e0c5f843fb"
      },
      "outputs": [
        {
          "name": "stdout",
          "output_type": "stream",
          "text": [
            "INFO:tensorflow:Deallocate tpu buffers before initializing tpu system.\n"
          ]
        },
        {
          "name": "stderr",
          "output_type": "stream",
          "text": [
            "INFO:tensorflow:Deallocate tpu buffers before initializing tpu system.\n"
          ]
        },
        {
          "name": "stdout",
          "output_type": "stream",
          "text": [
            "INFO:tensorflow:Initializing the TPU system: grpc://10.33.93.66:8470\n"
          ]
        },
        {
          "name": "stderr",
          "output_type": "stream",
          "text": [
            "INFO:tensorflow:Initializing the TPU system: grpc://10.33.93.66:8470\n"
          ]
        },
        {
          "name": "stdout",
          "output_type": "stream",
          "text": [
            "INFO:tensorflow:Finished initializing TPU system.\n"
          ]
        },
        {
          "name": "stderr",
          "output_type": "stream",
          "text": [
            "INFO:tensorflow:Finished initializing TPU system.\n"
          ]
        },
        {
          "name": "stdout",
          "output_type": "stream",
          "text": [
            "All devices:  [LogicalDevice(name='/job:worker/replica:0/task:0/device:TPU:0', device_type='TPU'), LogicalDevice(name='/job:worker/replica:0/task:0/device:TPU:1', device_type='TPU'), LogicalDevice(name='/job:worker/replica:0/task:0/device:TPU:2', device_type='TPU'), LogicalDevice(name='/job:worker/replica:0/task:0/device:TPU:3', device_type='TPU'), LogicalDevice(name='/job:worker/replica:0/task:0/device:TPU:4', device_type='TPU'), LogicalDevice(name='/job:worker/replica:0/task:0/device:TPU:5', device_type='TPU'), LogicalDevice(name='/job:worker/replica:0/task:0/device:TPU:6', device_type='TPU'), LogicalDevice(name='/job:worker/replica:0/task:0/device:TPU:7', device_type='TPU')]\n"
          ]
        }
      ],
      "source": [
        "resolver = tf.distribute.cluster_resolver.TPUClusterResolver(tpu='')\n",
        "tf.config.experimental_connect_to_cluster(resolver)\n",
        "# This is the TPU initialization code that has to be at the beginning.\n",
        "tf.tpu.experimental.initialize_tpu_system(resolver)\n",
        "print(\"All devices: \", tf.config.list_logical_devices('TPU'))\n",
        "#import tensorflow as tf\n",
        "#print(\"Num GPUs Available: \", len(tf.config.list_physical_devices('GPU')))"
      ]
    },
    {
      "cell_type": "code",
      "execution_count": null,
      "metadata": {
        "colab": {
          "base_uri": "https://localhost:8080/"
        },
        "id": "MRwK4usV2FOY",
        "outputId": "dc2ab6fe-7858-4acf-ae77-d5fb6a8af72f"
      },
      "outputs": [
        {
          "name": "stdout",
          "output_type": "stream",
          "text": [
            "--2022-05-04 02:02:10--  http://nlp.stanford.edu/data/glove.6B.zip\n",
            "Resolving nlp.stanford.edu (nlp.stanford.edu)... 171.64.67.140\n",
            "Connecting to nlp.stanford.edu (nlp.stanford.edu)|171.64.67.140|:80... connected.\n",
            "HTTP request sent, awaiting response... 302 Found\n",
            "Location: https://nlp.stanford.edu/data/glove.6B.zip [following]\n",
            "--2022-05-04 02:02:10--  https://nlp.stanford.edu/data/glove.6B.zip\n",
            "Connecting to nlp.stanford.edu (nlp.stanford.edu)|171.64.67.140|:443... connected.\n",
            "HTTP request sent, awaiting response... 301 Moved Permanently\n",
            "Location: http://downloads.cs.stanford.edu/nlp/data/glove.6B.zip [following]\n",
            "--2022-05-04 02:02:10--  http://downloads.cs.stanford.edu/nlp/data/glove.6B.zip\n",
            "Resolving downloads.cs.stanford.edu (downloads.cs.stanford.edu)... 171.64.64.22\n",
            "Connecting to downloads.cs.stanford.edu (downloads.cs.stanford.edu)|171.64.64.22|:80... connected.\n",
            "HTTP request sent, awaiting response... 200 OK\n",
            "Length: 862182613 (822M) [application/zip]\n",
            "Saving to: ‘glove.6B.zip’\n",
            "\n",
            "glove.6B.zip        100%[===================>] 822.24M  5.02MB/s    in 2m 40s  \n",
            "\n",
            "2022-05-04 02:04:51 (5.14 MB/s) - ‘glove.6B.zip’ saved [862182613/862182613]\n",
            "\n",
            "Archive:  glove.6B.zip\n",
            "  inflating: glove.6B.50d.txt        \n",
            "  inflating: glove.6B.100d.txt       \n",
            "  inflating: glove.6B.200d.txt       \n",
            "  inflating: glove.6B.300d.txt       \n"
          ]
        }
      ],
      "source": [
        "import os\n",
        "\n",
        "!wget http://nlp.stanford.edu/data/glove.6B.zip\n",
        "!unzip glove*.zip"
      ]
    },
    {
      "cell_type": "markdown",
      "metadata": {
        "id": "6mW5keA9oGe2"
      },
      "source": [
        "# dataset processing"
      ]
    },
    {
      "cell_type": "code",
      "execution_count": null,
      "metadata": {
        "colab": {
          "base_uri": "https://localhost:8080/",
          "height": 206
        },
        "id": "0XgC88-cx4DJ",
        "outputId": "ca21a460-b1ff-495a-be16-058c452f04cd"
      },
      "outputs": [
        {
          "output_type": "execute_result",
          "data": {
            "text/plain": [
              "   Unnamed: 0                                            message  \\\n",
              "0           0                                           hi there   \n",
              "1           1                                             Hello!   \n",
              "2           2                                   Hi! How are you?   \n",
              "3           3                                  Not bad! And You?   \n",
              "4           4  I'm doing well. Just got engaged to my high sc...   \n",
              "\n",
              "                                            response  \n",
              "0                                                NaN  \n",
              "1                                   Hi! How are you?  \n",
              "2                                  Not bad! And You?  \n",
              "3  I'm doing well. Just got engaged to my high sc...  \n",
              "4         Wowowowow! Congratulations! Is she pretty?  "
            ],
            "text/html": [
              "\n",
              "  <div id=\"df-914c5bf6-23bf-44c3-80ab-9460e844a11d\">\n",
              "    <div class=\"colab-df-container\">\n",
              "      <div>\n",
              "<style scoped>\n",
              "    .dataframe tbody tr th:only-of-type {\n",
              "        vertical-align: middle;\n",
              "    }\n",
              "\n",
              "    .dataframe tbody tr th {\n",
              "        vertical-align: top;\n",
              "    }\n",
              "\n",
              "    .dataframe thead th {\n",
              "        text-align: right;\n",
              "    }\n",
              "</style>\n",
              "<table border=\"1\" class=\"dataframe\">\n",
              "  <thead>\n",
              "    <tr style=\"text-align: right;\">\n",
              "      <th></th>\n",
              "      <th>Unnamed: 0</th>\n",
              "      <th>message</th>\n",
              "      <th>response</th>\n",
              "    </tr>\n",
              "  </thead>\n",
              "  <tbody>\n",
              "    <tr>\n",
              "      <th>0</th>\n",
              "      <td>0</td>\n",
              "      <td>hi there</td>\n",
              "      <td>NaN</td>\n",
              "    </tr>\n",
              "    <tr>\n",
              "      <th>1</th>\n",
              "      <td>1</td>\n",
              "      <td>Hello!</td>\n",
              "      <td>Hi! How are you?</td>\n",
              "    </tr>\n",
              "    <tr>\n",
              "      <th>2</th>\n",
              "      <td>2</td>\n",
              "      <td>Hi! How are you?</td>\n",
              "      <td>Not bad! And You?</td>\n",
              "    </tr>\n",
              "    <tr>\n",
              "      <th>3</th>\n",
              "      <td>3</td>\n",
              "      <td>Not bad! And You?</td>\n",
              "      <td>I'm doing well. Just got engaged to my high sc...</td>\n",
              "    </tr>\n",
              "    <tr>\n",
              "      <th>4</th>\n",
              "      <td>4</td>\n",
              "      <td>I'm doing well. Just got engaged to my high sc...</td>\n",
              "      <td>Wowowowow! Congratulations! Is she pretty?</td>\n",
              "    </tr>\n",
              "  </tbody>\n",
              "</table>\n",
              "</div>\n",
              "      <button class=\"colab-df-convert\" onclick=\"convertToInteractive('df-914c5bf6-23bf-44c3-80ab-9460e844a11d')\"\n",
              "              title=\"Convert this dataframe to an interactive table.\"\n",
              "              style=\"display:none;\">\n",
              "        \n",
              "  <svg xmlns=\"http://www.w3.org/2000/svg\" height=\"24px\"viewBox=\"0 0 24 24\"\n",
              "       width=\"24px\">\n",
              "    <path d=\"M0 0h24v24H0V0z\" fill=\"none\"/>\n",
              "    <path d=\"M18.56 5.44l.94 2.06.94-2.06 2.06-.94-2.06-.94-.94-2.06-.94 2.06-2.06.94zm-11 1L8.5 8.5l.94-2.06 2.06-.94-2.06-.94L8.5 2.5l-.94 2.06-2.06.94zm10 10l.94 2.06.94-2.06 2.06-.94-2.06-.94-.94-2.06-.94 2.06-2.06.94z\"/><path d=\"M17.41 7.96l-1.37-1.37c-.4-.4-.92-.59-1.43-.59-.52 0-1.04.2-1.43.59L10.3 9.45l-7.72 7.72c-.78.78-.78 2.05 0 2.83L4 21.41c.39.39.9.59 1.41.59.51 0 1.02-.2 1.41-.59l7.78-7.78 2.81-2.81c.8-.78.8-2.07 0-2.86zM5.41 20L4 18.59l7.72-7.72 1.47 1.35L5.41 20z\"/>\n",
              "  </svg>\n",
              "      </button>\n",
              "      \n",
              "  <style>\n",
              "    .colab-df-container {\n",
              "      display:flex;\n",
              "      flex-wrap:wrap;\n",
              "      gap: 12px;\n",
              "    }\n",
              "\n",
              "    .colab-df-convert {\n",
              "      background-color: #E8F0FE;\n",
              "      border: none;\n",
              "      border-radius: 50%;\n",
              "      cursor: pointer;\n",
              "      display: none;\n",
              "      fill: #1967D2;\n",
              "      height: 32px;\n",
              "      padding: 0 0 0 0;\n",
              "      width: 32px;\n",
              "    }\n",
              "\n",
              "    .colab-df-convert:hover {\n",
              "      background-color: #E2EBFA;\n",
              "      box-shadow: 0px 1px 2px rgba(60, 64, 67, 0.3), 0px 1px 3px 1px rgba(60, 64, 67, 0.15);\n",
              "      fill: #174EA6;\n",
              "    }\n",
              "\n",
              "    [theme=dark] .colab-df-convert {\n",
              "      background-color: #3B4455;\n",
              "      fill: #D2E3FC;\n",
              "    }\n",
              "\n",
              "    [theme=dark] .colab-df-convert:hover {\n",
              "      background-color: #434B5C;\n",
              "      box-shadow: 0px 1px 3px 1px rgba(0, 0, 0, 0.15);\n",
              "      filter: drop-shadow(0px 1px 2px rgba(0, 0, 0, 0.3));\n",
              "      fill: #FFFFFF;\n",
              "    }\n",
              "  </style>\n",
              "\n",
              "      <script>\n",
              "        const buttonEl =\n",
              "          document.querySelector('#df-914c5bf6-23bf-44c3-80ab-9460e844a11d button.colab-df-convert');\n",
              "        buttonEl.style.display =\n",
              "          google.colab.kernel.accessAllowed ? 'block' : 'none';\n",
              "\n",
              "        async function convertToInteractive(key) {\n",
              "          const element = document.querySelector('#df-914c5bf6-23bf-44c3-80ab-9460e844a11d');\n",
              "          const dataTable =\n",
              "            await google.colab.kernel.invokeFunction('convertToInteractive',\n",
              "                                                     [key], {});\n",
              "          if (!dataTable) return;\n",
              "\n",
              "          const docLinkHtml = 'Like what you see? Visit the ' +\n",
              "            '<a target=\"_blank\" href=https://colab.research.google.com/notebooks/data_table.ipynb>data table notebook</a>'\n",
              "            + ' to learn more about interactive tables.';\n",
              "          element.innerHTML = '';\n",
              "          dataTable['output_type'] = 'display_data';\n",
              "          await google.colab.output.renderOutput(dataTable, element);\n",
              "          const docLink = document.createElement('div');\n",
              "          docLink.innerHTML = docLinkHtml;\n",
              "          element.appendChild(docLink);\n",
              "        }\n",
              "      </script>\n",
              "    </div>\n",
              "  </div>\n",
              "  "
            ]
          },
          "metadata": {},
          "execution_count": 7
        }
      ],
      "source": [
        "df=pd.read_excel(\"/content/cleaned_data.xlsx\")\n",
        "df.head()"
      ]
    },
    {
      "cell_type": "code",
      "execution_count": null,
      "metadata": {
        "colab": {
          "base_uri": "https://localhost:8080/"
        },
        "id": "dIcLeNW-02TS",
        "outputId": "02643971-b932-4c9a-c03e-96a7c6d6d028"
      },
      "outputs": [
        {
          "data": {
            "text/plain": [
              "Index(['Unnamed: 0', 'message', 'response'], dtype='object')"
            ]
          },
          "execution_count": 6,
          "metadata": {},
          "output_type": "execute_result"
        }
      ],
      "source": [
        "df.columns"
      ]
    },
    {
      "cell_type": "code",
      "execution_count": null,
      "metadata": {
        "id": "bkSCytHDzd8S"
      },
      "outputs": [],
      "source": [
        "df.drop(['Unnamed: 0'], axis = 1, inplace = True) "
      ]
    },
    {
      "cell_type": "code",
      "source": [
        "df.to_csv('/content/cleaned_data.csv')"
      ],
      "metadata": {
        "id": "N8pgwdad9AkZ"
      },
      "execution_count": null,
      "outputs": []
    },
    {
      "cell_type": "code",
      "execution_count": null,
      "metadata": {
        "id": "T64kjkxV1BSq"
      },
      "outputs": [],
      "source": [
        "data = pd.DataFrame()"
      ]
    },
    {
      "cell_type": "code",
      "source": [
        "data['question']=df['message']\n",
        "data['answer']=df['response']"
      ],
      "metadata": {
        "id": "mcBQDYYl7Ur4"
      },
      "execution_count": null,
      "outputs": []
    },
    {
      "cell_type": "code",
      "source": [
        "data.to_excel(\"/content/data.xlsx\")"
      ],
      "metadata": {
        "id": "ZcR_url77icb"
      },
      "execution_count": null,
      "outputs": []
    },
    {
      "cell_type": "code",
      "execution_count": null,
      "metadata": {
        "colab": {
          "base_uri": "https://localhost:8080/",
          "height": 406
        },
        "id": "Y7JDqmnF1COB",
        "outputId": "6a2606fb-7439-4b23-b565-4c0bcba6b740"
      },
      "outputs": [
        {
          "name": "stdout",
          "output_type": "stream",
          "text": [
            "(13732, 2)\n",
            "============================================================\n",
            "<class 'pandas.core.frame.DataFrame'>\n",
            "RangeIndex: 13732 entries, 0 to 13731\n",
            "Data columns (total 2 columns):\n",
            " #   Column    Non-Null Count  Dtype \n",
            "---  ------    --------------  ----- \n",
            " 0   message   13732 non-null  object\n",
            " 1   response  13512 non-null  object\n",
            "dtypes: object(2)\n",
            "memory usage: 214.7+ KB\n",
            "None\n",
            "============================================================\n"
          ]
        },
        {
          "data": {
            "text/html": [
              "\n",
              "  <div id=\"df-e3ccb7f8-31f5-4a42-b776-eac7be8569ae\">\n",
              "    <div class=\"colab-df-container\">\n",
              "      <div>\n",
              "<style scoped>\n",
              "    .dataframe tbody tr th:only-of-type {\n",
              "        vertical-align: middle;\n",
              "    }\n",
              "\n",
              "    .dataframe tbody tr th {\n",
              "        vertical-align: top;\n",
              "    }\n",
              "\n",
              "    .dataframe thead th {\n",
              "        text-align: right;\n",
              "    }\n",
              "</style>\n",
              "<table border=\"1\" class=\"dataframe\">\n",
              "  <thead>\n",
              "    <tr style=\"text-align: right;\">\n",
              "      <th></th>\n",
              "      <th>message</th>\n",
              "      <th>response</th>\n",
              "    </tr>\n",
              "  </thead>\n",
              "  <tbody>\n",
              "    <tr>\n",
              "      <th>count</th>\n",
              "      <td>13732</td>\n",
              "      <td>13512</td>\n",
              "    </tr>\n",
              "    <tr>\n",
              "      <th>unique</th>\n",
              "      <td>10063</td>\n",
              "      <td>10282</td>\n",
              "    </tr>\n",
              "    <tr>\n",
              "      <th>top</th>\n",
              "      <td>Hi</td>\n",
              "      <td>what do you do for a living ?</td>\n",
              "    </tr>\n",
              "    <tr>\n",
              "      <th>freq</th>\n",
              "      <td>355</td>\n",
              "      <td>386</td>\n",
              "    </tr>\n",
              "  </tbody>\n",
              "</table>\n",
              "</div>\n",
              "      <button class=\"colab-df-convert\" onclick=\"convertToInteractive('df-e3ccb7f8-31f5-4a42-b776-eac7be8569ae')\"\n",
              "              title=\"Convert this dataframe to an interactive table.\"\n",
              "              style=\"display:none;\">\n",
              "        \n",
              "  <svg xmlns=\"http://www.w3.org/2000/svg\" height=\"24px\"viewBox=\"0 0 24 24\"\n",
              "       width=\"24px\">\n",
              "    <path d=\"M0 0h24v24H0V0z\" fill=\"none\"/>\n",
              "    <path d=\"M18.56 5.44l.94 2.06.94-2.06 2.06-.94-2.06-.94-.94-2.06-.94 2.06-2.06.94zm-11 1L8.5 8.5l.94-2.06 2.06-.94-2.06-.94L8.5 2.5l-.94 2.06-2.06.94zm10 10l.94 2.06.94-2.06 2.06-.94-2.06-.94-.94-2.06-.94 2.06-2.06.94z\"/><path d=\"M17.41 7.96l-1.37-1.37c-.4-.4-.92-.59-1.43-.59-.52 0-1.04.2-1.43.59L10.3 9.45l-7.72 7.72c-.78.78-.78 2.05 0 2.83L4 21.41c.39.39.9.59 1.41.59.51 0 1.02-.2 1.41-.59l7.78-7.78 2.81-2.81c.8-.78.8-2.07 0-2.86zM5.41 20L4 18.59l7.72-7.72 1.47 1.35L5.41 20z\"/>\n",
              "  </svg>\n",
              "      </button>\n",
              "      \n",
              "  <style>\n",
              "    .colab-df-container {\n",
              "      display:flex;\n",
              "      flex-wrap:wrap;\n",
              "      gap: 12px;\n",
              "    }\n",
              "\n",
              "    .colab-df-convert {\n",
              "      background-color: #E8F0FE;\n",
              "      border: none;\n",
              "      border-radius: 50%;\n",
              "      cursor: pointer;\n",
              "      display: none;\n",
              "      fill: #1967D2;\n",
              "      height: 32px;\n",
              "      padding: 0 0 0 0;\n",
              "      width: 32px;\n",
              "    }\n",
              "\n",
              "    .colab-df-convert:hover {\n",
              "      background-color: #E2EBFA;\n",
              "      box-shadow: 0px 1px 2px rgba(60, 64, 67, 0.3), 0px 1px 3px 1px rgba(60, 64, 67, 0.15);\n",
              "      fill: #174EA6;\n",
              "    }\n",
              "\n",
              "    [theme=dark] .colab-df-convert {\n",
              "      background-color: #3B4455;\n",
              "      fill: #D2E3FC;\n",
              "    }\n",
              "\n",
              "    [theme=dark] .colab-df-convert:hover {\n",
              "      background-color: #434B5C;\n",
              "      box-shadow: 0px 1px 3px 1px rgba(0, 0, 0, 0.15);\n",
              "      filter: drop-shadow(0px 1px 2px rgba(0, 0, 0, 0.3));\n",
              "      fill: #FFFFFF;\n",
              "    }\n",
              "  </style>\n",
              "\n",
              "      <script>\n",
              "        const buttonEl =\n",
              "          document.querySelector('#df-e3ccb7f8-31f5-4a42-b776-eac7be8569ae button.colab-df-convert');\n",
              "        buttonEl.style.display =\n",
              "          google.colab.kernel.accessAllowed ? 'block' : 'none';\n",
              "\n",
              "        async function convertToInteractive(key) {\n",
              "          const element = document.querySelector('#df-e3ccb7f8-31f5-4a42-b776-eac7be8569ae');\n",
              "          const dataTable =\n",
              "            await google.colab.kernel.invokeFunction('convertToInteractive',\n",
              "                                                     [key], {});\n",
              "          if (!dataTable) return;\n",
              "\n",
              "          const docLinkHtml = 'Like what you see? Visit the ' +\n",
              "            '<a target=\"_blank\" href=https://colab.research.google.com/notebooks/data_table.ipynb>data table notebook</a>'\n",
              "            + ' to learn more about interactive tables.';\n",
              "          element.innerHTML = '';\n",
              "          dataTable['output_type'] = 'display_data';\n",
              "          await google.colab.output.renderOutput(dataTable, element);\n",
              "          const docLink = document.createElement('div');\n",
              "          docLink.innerHTML = docLinkHtml;\n",
              "          element.appendChild(docLink);\n",
              "        }\n",
              "      </script>\n",
              "    </div>\n",
              "  </div>\n",
              "  "
            ],
            "text/plain": [
              "       message                       response\n",
              "count    13732                          13512\n",
              "unique   10063                          10282\n",
              "top         Hi  what do you do for a living ?\n",
              "freq       355                            386"
            ]
          },
          "execution_count": 9,
          "metadata": {},
          "output_type": "execute_result"
        }
      ],
      "source": [
        "print(df.shape)\n",
        "print(\"=\"*60)\n",
        "print(df.info())\n",
        "print(\"=\"*60)\n",
        "df.describe()"
      ]
    },
    {
      "cell_type": "code",
      "execution_count": null,
      "metadata": {
        "colab": {
          "base_uri": "https://localhost:8080/"
        },
        "id": "4VNtIIQi1KxB",
        "outputId": "d1565c76-1e04-4ed7-db9d-dbf898cfbda1"
      },
      "outputs": [
        {
          "name": "stdout",
          "output_type": "stream",
          "text": [
            "message       0\n",
            "response    220\n",
            "dtype: int64\n",
            "\n",
            "\n",
            "message     False\n",
            "response     True\n",
            "dtype: bool\n"
          ]
        }
      ],
      "source": [
        "print(df.isnull().sum())\n",
        "print('\\n')\n",
        "print(df.isnull().any())"
      ]
    },
    {
      "cell_type": "code",
      "execution_count": null,
      "metadata": {
        "id": "dtgORHgePCmY"
      },
      "outputs": [],
      "source": [
        "df.dropna(inplace=True)"
      ]
    },
    {
      "cell_type": "code",
      "execution_count": null,
      "metadata": {
        "colab": {
          "base_uri": "https://localhost:8080/",
          "height": 237
        },
        "id": "IM_0xKsq1XQR",
        "outputId": "638f0a12-ac7a-4c5f-cf60-223a1a020b9e"
      },
      "outputs": [
        {
          "data": {
            "text/html": [
              "\n",
              "  <div id=\"df-39983556-6adc-4258-9f03-3f480e79ae99\">\n",
              "    <div class=\"colab-df-container\">\n",
              "      <div>\n",
              "<style scoped>\n",
              "    .dataframe tbody tr th:only-of-type {\n",
              "        vertical-align: middle;\n",
              "    }\n",
              "\n",
              "    .dataframe tbody tr th {\n",
              "        vertical-align: top;\n",
              "    }\n",
              "\n",
              "    .dataframe thead th {\n",
              "        text-align: right;\n",
              "    }\n",
              "</style>\n",
              "<table border=\"1\" class=\"dataframe\">\n",
              "  <thead>\n",
              "    <tr style=\"text-align: right;\">\n",
              "      <th></th>\n",
              "      <th>message</th>\n",
              "      <th>response</th>\n",
              "    </tr>\n",
              "  </thead>\n",
              "  <tbody>\n",
              "    <tr>\n",
              "      <th>55</th>\n",
              "      <td>She 's pretty good. She' s my idol.</td>\n",
              "      <td>Yeah, she is hot! And what about Iggy Pop?</td>\n",
              "    </tr>\n",
              "    <tr>\n",
              "      <th>56</th>\n",
              "      <td>Yeah, she is hot! And what about Iggy Pop?</td>\n",
              "      <td>I love that band! They 're my favorite. What d...</td>\n",
              "    </tr>\n",
              "    <tr>\n",
              "      <th>57</th>\n",
              "      <td>I love that band! They 're my favorite. What d...</td>\n",
              "      <td>I'm software developer. And you?</td>\n",
              "    </tr>\n",
              "    <tr>\n",
              "      <th>58</th>\n",
              "      <td>I'm software developer. And you?</td>\n",
              "      <td>I am retired. I used to be a programmer. What ...</td>\n",
              "    </tr>\n",
              "    <tr>\n",
              "      <th>59</th>\n",
              "      <td>I am retired. I used to be a programmer. What ...</td>\n",
              "      <td>Conversational AI and chat bots. If you were b...</td>\n",
              "    </tr>\n",
              "    <tr>\n",
              "      <th>60</th>\n",
              "      <td>Conversational AI and chat bots. If you were b...</td>\n",
              "      <td>Oh, wow! That 's awesome! 🙂</td>\n",
              "    </tr>\n",
              "  </tbody>\n",
              "</table>\n",
              "</div>\n",
              "      <button class=\"colab-df-convert\" onclick=\"convertToInteractive('df-39983556-6adc-4258-9f03-3f480e79ae99')\"\n",
              "              title=\"Convert this dataframe to an interactive table.\"\n",
              "              style=\"display:none;\">\n",
              "        \n",
              "  <svg xmlns=\"http://www.w3.org/2000/svg\" height=\"24px\"viewBox=\"0 0 24 24\"\n",
              "       width=\"24px\">\n",
              "    <path d=\"M0 0h24v24H0V0z\" fill=\"none\"/>\n",
              "    <path d=\"M18.56 5.44l.94 2.06.94-2.06 2.06-.94-2.06-.94-.94-2.06-.94 2.06-2.06.94zm-11 1L8.5 8.5l.94-2.06 2.06-.94-2.06-.94L8.5 2.5l-.94 2.06-2.06.94zm10 10l.94 2.06.94-2.06 2.06-.94-2.06-.94-.94-2.06-.94 2.06-2.06.94z\"/><path d=\"M17.41 7.96l-1.37-1.37c-.4-.4-.92-.59-1.43-.59-.52 0-1.04.2-1.43.59L10.3 9.45l-7.72 7.72c-.78.78-.78 2.05 0 2.83L4 21.41c.39.39.9.59 1.41.59.51 0 1.02-.2 1.41-.59l7.78-7.78 2.81-2.81c.8-.78.8-2.07 0-2.86zM5.41 20L4 18.59l7.72-7.72 1.47 1.35L5.41 20z\"/>\n",
              "  </svg>\n",
              "      </button>\n",
              "      \n",
              "  <style>\n",
              "    .colab-df-container {\n",
              "      display:flex;\n",
              "      flex-wrap:wrap;\n",
              "      gap: 12px;\n",
              "    }\n",
              "\n",
              "    .colab-df-convert {\n",
              "      background-color: #E8F0FE;\n",
              "      border: none;\n",
              "      border-radius: 50%;\n",
              "      cursor: pointer;\n",
              "      display: none;\n",
              "      fill: #1967D2;\n",
              "      height: 32px;\n",
              "      padding: 0 0 0 0;\n",
              "      width: 32px;\n",
              "    }\n",
              "\n",
              "    .colab-df-convert:hover {\n",
              "      background-color: #E2EBFA;\n",
              "      box-shadow: 0px 1px 2px rgba(60, 64, 67, 0.3), 0px 1px 3px 1px rgba(60, 64, 67, 0.15);\n",
              "      fill: #174EA6;\n",
              "    }\n",
              "\n",
              "    [theme=dark] .colab-df-convert {\n",
              "      background-color: #3B4455;\n",
              "      fill: #D2E3FC;\n",
              "    }\n",
              "\n",
              "    [theme=dark] .colab-df-convert:hover {\n",
              "      background-color: #434B5C;\n",
              "      box-shadow: 0px 1px 3px 1px rgba(0, 0, 0, 0.15);\n",
              "      filter: drop-shadow(0px 1px 2px rgba(0, 0, 0, 0.3));\n",
              "      fill: #FFFFFF;\n",
              "    }\n",
              "  </style>\n",
              "\n",
              "      <script>\n",
              "        const buttonEl =\n",
              "          document.querySelector('#df-39983556-6adc-4258-9f03-3f480e79ae99 button.colab-df-convert');\n",
              "        buttonEl.style.display =\n",
              "          google.colab.kernel.accessAllowed ? 'block' : 'none';\n",
              "\n",
              "        async function convertToInteractive(key) {\n",
              "          const element = document.querySelector('#df-39983556-6adc-4258-9f03-3f480e79ae99');\n",
              "          const dataTable =\n",
              "            await google.colab.kernel.invokeFunction('convertToInteractive',\n",
              "                                                     [key], {});\n",
              "          if (!dataTable) return;\n",
              "\n",
              "          const docLinkHtml = 'Like what you see? Visit the ' +\n",
              "            '<a target=\"_blank\" href=https://colab.research.google.com/notebooks/data_table.ipynb>data table notebook</a>'\n",
              "            + ' to learn more about interactive tables.';\n",
              "          element.innerHTML = '';\n",
              "          dataTable['output_type'] = 'display_data';\n",
              "          await google.colab.output.renderOutput(dataTable, element);\n",
              "          const docLink = document.createElement('div');\n",
              "          docLink.innerHTML = docLinkHtml;\n",
              "          element.appendChild(docLink);\n",
              "        }\n",
              "      </script>\n",
              "    </div>\n",
              "  </div>\n",
              "  "
            ],
            "text/plain": [
              "                                              message  \\\n",
              "55                She 's pretty good. She' s my idol.   \n",
              "56         Yeah, she is hot! And what about Iggy Pop?   \n",
              "57  I love that band! They 're my favorite. What d...   \n",
              "58                   I'm software developer. And you?   \n",
              "59  I am retired. I used to be a programmer. What ...   \n",
              "60  Conversational AI and chat bots. If you were b...   \n",
              "\n",
              "                                             response  \n",
              "55         Yeah, she is hot! And what about Iggy Pop?  \n",
              "56  I love that band! They 're my favorite. What d...  \n",
              "57                   I'm software developer. And you?  \n",
              "58  I am retired. I used to be a programmer. What ...  \n",
              "59  Conversational AI and chat bots. If you were b...  \n",
              "60                        Oh, wow! That 's awesome! 🙂  "
            ]
          },
          "execution_count": 12,
          "metadata": {},
          "output_type": "execute_result"
        }
      ],
      "source": [
        "df.loc[55:60,:]"
      ]
    },
    {
      "cell_type": "code",
      "execution_count": null,
      "metadata": {
        "id": "XVeYGfV81Z_u"
      },
      "outputs": [],
      "source": [
        "stop_words = set(stopwords.words('english'))\n",
        "contractions = {\"ain't\": \"is not\", \"aren't\": \"are not\",\"can't\": \"cannot\", \"'cause\": \"because\", \"could've\": \"could have\", \"couldn't\": \"could not\", \"didn't\": \"did not\",  \"doesn't\": \"does not\", \"don't\": \"do not\", \"hadn't\": \"had not\", \"hasn't\": \"has not\", \"haven't\": \"have not\", \"he'd\": \"he would\",\"he'll\": \"he will\", \"he's\": \"he is\", \"how'd\": \"how did\", \"how'd'y\": \"how do you\", \"how'll\": \"how will\", \"how's\": \"how is\", \"I'd\": \"I would\", \"I'd've\": \"I would have\", \"I'll\": \"I will\", \"I'll've\": \"I will have\",\"I'm\": \"I am\", \"I've\": \"I have\", \"i'd\": \"i would\", \"i'd've\": \"i would have\", \"i'll\": \"i will\",  \"i'll've\": \"i will have\",\"i'm\": \"i am\", \"i've\": \"i have\", \"isn't\": \"is not\", \"it'd\": \"it would\", \"it'd've\": \"it would have\", \"it'll\": \"it will\", \"it'll've\": \"it will have\",\"it's\": \"it is\", \"let's\": \"let us\", \"ma'am\": \"madam\", \"mayn't\": \"may not\", \"might've\": \"might have\",\"mightn't\": \"might not\",\"mightn't've\": \"might not have\", \"must've\": \"must have\", \"mustn't\": \"must not\", \"mustn't've\": \"must not have\", \"needn't\": \"need not\", \"needn't've\": \"need not have\",\"o'clock\": \"of the clock\", \"oughtn't\": \"ought not\", \"oughtn't've\": \"ought not have\", \"shan't\": \"shall not\", \"sha'n't\": \"shall not\", \"shan't've\": \"shall not have\", \"she'd\": \"she would\", \"she'd've\": \"she would have\", \"she'll\": \"she will\", \"she'll've\": \"she will have\", \"she's\": \"she is\", \"should've\": \"should have\", \"shouldn't\": \"should not\", \"shouldn't've\": \"should not have\", \"so've\": \"so have\",\"so's\": \"so as\", \"this's\": \"this is\",\"that'd\": \"that would\", \"that'd've\": \"that would have\", \"that's\": \"that is\", \"there'd\": \"there would\", \"there'd've\": \"there would have\", \"there's\": \"there is\", \"here's\": \"here is\",\"they'd\": \"they would\", \"they'd've\": \"they would have\", \"they'll\": \"they will\", \"they'll've\": \"they will have\", \"they're\": \"they are\", \"they've\": \"they have\", \"to've\": \"to have\", \"wasn't\": \"was not\", \"we'd\": \"we would\", \"we'd've\": \"we would have\", \"we'll\": \"we will\", \"we'll've\": \"we will have\", \"we're\": \"we are\", \"we've\": \"we have\", \"weren't\": \"were not\", \"what'll\": \"what will\", \"what'll've\": \"what will have\", \"what're\": \"what are\", \"what's\": \"what is\", \"what've\": \"what have\", \"when's\": \"when is\", \"when've\": \"when have\", \"where'd\": \"where did\", \"where's\": \"where is\", \"where've\": \"where have\", \"who'll\": \"who will\", \"who'll've\": \"who will have\", \"who's\": \"who is\", \"who've\": \"who have\", \"why's\": \"why is\", \"why've\": \"why have\", \"will've\": \"will have\", \"won't\": \"will not\", \"won't've\": \"will not have\", \"would've\": \"would have\", \"wouldn't\": \"would not\", \"wouldn't've\": \"would not have\", \"y'all\": \"you all\", \"y'all'd\": \"you all would\",\"y'all'd've\": \"you all would have\",\"y'all're\": \"you all are\",\"y'all've\": \"you all have\", \"you'd\": \"you would\", \"you'd've\": \"you would have\", \"you'll\": \"you will\", \"you'll've\": \"you will have\", \"you're\": \"you are\", \"you've\": \"you have\"}\n",
        "\n",
        "#remove_stop = True for questions\n",
        "#remove_stop = False for answers\n",
        "def preprocess_text(text,remove_stop):\n",
        "    text = text.lower()\n",
        "    text = ' '.join([contractions[word] if word in contractions else word for word in text.split()])\n",
        "    text = re.sub(r'[^a-zA-Z0-9]',' ',text)\n",
        "    if remove_stop == True:\n",
        "        text = ' '.join([word for word in text.split() if word not in stop_words])\n",
        "    text = ' '.join([word for word in text.split()])\n",
        "    return text"
      ]
    },
    {
      "cell_type": "code",
      "execution_count": null,
      "metadata": {
        "colab": {
          "base_uri": "https://localhost:8080/",
          "height": 237
        },
        "id": "wvWoZK231cmc",
        "outputId": "0a936f18-989a-4486-b245-ca21c75117cf"
      },
      "outputs": [
        {
          "data": {
            "text/html": [
              "\n",
              "  <div id=\"df-116d463c-bf89-46f5-99d9-42189875d27a\">\n",
              "    <div class=\"colab-df-container\">\n",
              "      <div>\n",
              "<style scoped>\n",
              "    .dataframe tbody tr th:only-of-type {\n",
              "        vertical-align: middle;\n",
              "    }\n",
              "\n",
              "    .dataframe tbody tr th {\n",
              "        vertical-align: top;\n",
              "    }\n",
              "\n",
              "    .dataframe thead th {\n",
              "        text-align: right;\n",
              "    }\n",
              "</style>\n",
              "<table border=\"1\" class=\"dataframe\">\n",
              "  <thead>\n",
              "    <tr style=\"text-align: right;\">\n",
              "      <th></th>\n",
              "      <th>message</th>\n",
              "      <th>response</th>\n",
              "    </tr>\n",
              "  </thead>\n",
              "  <tbody>\n",
              "    <tr>\n",
              "      <th>55</th>\n",
              "      <td>she s pretty good she s my idol</td>\n",
              "      <td>yeah she is hot and what about iggy pop</td>\n",
              "    </tr>\n",
              "    <tr>\n",
              "      <th>56</th>\n",
              "      <td>yeah she is hot and what about iggy pop</td>\n",
              "      <td>i love that band they re my favorite what do y...</td>\n",
              "    </tr>\n",
              "    <tr>\n",
              "      <th>57</th>\n",
              "      <td>i love that band they re my favorite what do y...</td>\n",
              "      <td>i am software developer and you</td>\n",
              "    </tr>\n",
              "    <tr>\n",
              "      <th>58</th>\n",
              "      <td>i am software developer and you</td>\n",
              "      <td>i am retired i used to be a programmer what ki...</td>\n",
              "    </tr>\n",
              "    <tr>\n",
              "      <th>59</th>\n",
              "      <td>i am retired i used to be a programmer what ki...</td>\n",
              "      <td>conversational ai and chat bots if you were bo...</td>\n",
              "    </tr>\n",
              "    <tr>\n",
              "      <th>60</th>\n",
              "      <td>conversational ai and chat bots if you were bo...</td>\n",
              "      <td>oh wow that s awesome</td>\n",
              "    </tr>\n",
              "  </tbody>\n",
              "</table>\n",
              "</div>\n",
              "      <button class=\"colab-df-convert\" onclick=\"convertToInteractive('df-116d463c-bf89-46f5-99d9-42189875d27a')\"\n",
              "              title=\"Convert this dataframe to an interactive table.\"\n",
              "              style=\"display:none;\">\n",
              "        \n",
              "  <svg xmlns=\"http://www.w3.org/2000/svg\" height=\"24px\"viewBox=\"0 0 24 24\"\n",
              "       width=\"24px\">\n",
              "    <path d=\"M0 0h24v24H0V0z\" fill=\"none\"/>\n",
              "    <path d=\"M18.56 5.44l.94 2.06.94-2.06 2.06-.94-2.06-.94-.94-2.06-.94 2.06-2.06.94zm-11 1L8.5 8.5l.94-2.06 2.06-.94-2.06-.94L8.5 2.5l-.94 2.06-2.06.94zm10 10l.94 2.06.94-2.06 2.06-.94-2.06-.94-.94-2.06-.94 2.06-2.06.94z\"/><path d=\"M17.41 7.96l-1.37-1.37c-.4-.4-.92-.59-1.43-.59-.52 0-1.04.2-1.43.59L10.3 9.45l-7.72 7.72c-.78.78-.78 2.05 0 2.83L4 21.41c.39.39.9.59 1.41.59.51 0 1.02-.2 1.41-.59l7.78-7.78 2.81-2.81c.8-.78.8-2.07 0-2.86zM5.41 20L4 18.59l7.72-7.72 1.47 1.35L5.41 20z\"/>\n",
              "  </svg>\n",
              "      </button>\n",
              "      \n",
              "  <style>\n",
              "    .colab-df-container {\n",
              "      display:flex;\n",
              "      flex-wrap:wrap;\n",
              "      gap: 12px;\n",
              "    }\n",
              "\n",
              "    .colab-df-convert {\n",
              "      background-color: #E8F0FE;\n",
              "      border: none;\n",
              "      border-radius: 50%;\n",
              "      cursor: pointer;\n",
              "      display: none;\n",
              "      fill: #1967D2;\n",
              "      height: 32px;\n",
              "      padding: 0 0 0 0;\n",
              "      width: 32px;\n",
              "    }\n",
              "\n",
              "    .colab-df-convert:hover {\n",
              "      background-color: #E2EBFA;\n",
              "      box-shadow: 0px 1px 2px rgba(60, 64, 67, 0.3), 0px 1px 3px 1px rgba(60, 64, 67, 0.15);\n",
              "      fill: #174EA6;\n",
              "    }\n",
              "\n",
              "    [theme=dark] .colab-df-convert {\n",
              "      background-color: #3B4455;\n",
              "      fill: #D2E3FC;\n",
              "    }\n",
              "\n",
              "    [theme=dark] .colab-df-convert:hover {\n",
              "      background-color: #434B5C;\n",
              "      box-shadow: 0px 1px 3px 1px rgba(0, 0, 0, 0.15);\n",
              "      filter: drop-shadow(0px 1px 2px rgba(0, 0, 0, 0.3));\n",
              "      fill: #FFFFFF;\n",
              "    }\n",
              "  </style>\n",
              "\n",
              "      <script>\n",
              "        const buttonEl =\n",
              "          document.querySelector('#df-116d463c-bf89-46f5-99d9-42189875d27a button.colab-df-convert');\n",
              "        buttonEl.style.display =\n",
              "          google.colab.kernel.accessAllowed ? 'block' : 'none';\n",
              "\n",
              "        async function convertToInteractive(key) {\n",
              "          const element = document.querySelector('#df-116d463c-bf89-46f5-99d9-42189875d27a');\n",
              "          const dataTable =\n",
              "            await google.colab.kernel.invokeFunction('convertToInteractive',\n",
              "                                                     [key], {});\n",
              "          if (!dataTable) return;\n",
              "\n",
              "          const docLinkHtml = 'Like what you see? Visit the ' +\n",
              "            '<a target=\"_blank\" href=https://colab.research.google.com/notebooks/data_table.ipynb>data table notebook</a>'\n",
              "            + ' to learn more about interactive tables.';\n",
              "          element.innerHTML = '';\n",
              "          dataTable['output_type'] = 'display_data';\n",
              "          await google.colab.output.renderOutput(dataTable, element);\n",
              "          const docLink = document.createElement('div');\n",
              "          docLink.innerHTML = docLinkHtml;\n",
              "          element.appendChild(docLink);\n",
              "        }\n",
              "      </script>\n",
              "    </div>\n",
              "  </div>\n",
              "  "
            ],
            "text/plain": [
              "                                              message  \\\n",
              "55                    she s pretty good she s my idol   \n",
              "56            yeah she is hot and what about iggy pop   \n",
              "57  i love that band they re my favorite what do y...   \n",
              "58                    i am software developer and you   \n",
              "59  i am retired i used to be a programmer what ki...   \n",
              "60  conversational ai and chat bots if you were bo...   \n",
              "\n",
              "                                             response  \n",
              "55            yeah she is hot and what about iggy pop  \n",
              "56  i love that band they re my favorite what do y...  \n",
              "57                    i am software developer and you  \n",
              "58  i am retired i used to be a programmer what ki...  \n",
              "59  conversational ai and chat bots if you were bo...  \n",
              "60                              oh wow that s awesome  "
            ]
          },
          "execution_count": 14,
          "metadata": {},
          "output_type": "execute_result"
        }
      ],
      "source": [
        "df.message = df.message.apply(preprocess_text,remove_stop=False)\n",
        "df.response = df.response.apply(preprocess_text,remove_stop=False)\n",
        "df.loc[55:60,:]"
      ]
    },
    {
      "cell_type": "code",
      "execution_count": null,
      "metadata": {
        "colab": {
          "base_uri": "https://localhost:8080/",
          "height": 302
        },
        "id": "SwAHwwNJ1qLD",
        "outputId": "85eed7d7-f1f3-4f13-bd22-a24a37fecda4"
      },
      "outputs": [
        {
          "data": {
            "text/html": [
              "\n",
              "  <div id=\"df-dc0e6024-dfbf-4c4b-bb83-f33b8d32e414\">\n",
              "    <div class=\"colab-df-container\">\n",
              "      <div>\n",
              "<style scoped>\n",
              "    .dataframe tbody tr th:only-of-type {\n",
              "        vertical-align: middle;\n",
              "    }\n",
              "\n",
              "    .dataframe tbody tr th {\n",
              "        vertical-align: top;\n",
              "    }\n",
              "\n",
              "    .dataframe thead th {\n",
              "        text-align: right;\n",
              "    }\n",
              "</style>\n",
              "<table border=\"1\" class=\"dataframe\">\n",
              "  <thead>\n",
              "    <tr style=\"text-align: right;\">\n",
              "      <th></th>\n",
              "      <th>message</th>\n",
              "      <th>response</th>\n",
              "      <th>decoder_input</th>\n",
              "      <th>decoder_label</th>\n",
              "    </tr>\n",
              "  </thead>\n",
              "  <tbody>\n",
              "    <tr>\n",
              "      <th>1</th>\n",
              "      <td>hello</td>\n",
              "      <td>hi how are you</td>\n",
              "      <td>sos hi how are you</td>\n",
              "      <td>hi how are you eo&gt;</td>\n",
              "    </tr>\n",
              "    <tr>\n",
              "      <th>2</th>\n",
              "      <td>hi how are you</td>\n",
              "      <td>not bad and you</td>\n",
              "      <td>sos not bad and you</td>\n",
              "      <td>not bad and you eo&gt;</td>\n",
              "    </tr>\n",
              "    <tr>\n",
              "      <th>3</th>\n",
              "      <td>not bad and you</td>\n",
              "      <td>i am doing well just got engaged to my high sc...</td>\n",
              "      <td>sos i am doing well just got engaged to my hig...</td>\n",
              "      <td>i am doing well just got engaged to my high sc...</td>\n",
              "    </tr>\n",
              "    <tr>\n",
              "      <th>4</th>\n",
              "      <td>i am doing well just got engaged to my high sc...</td>\n",
              "      <td>wowowowow congratulations is she pretty</td>\n",
              "      <td>sos wowowowow congratulations is she pretty</td>\n",
              "      <td>wowowowow congratulations is she pretty eo&gt;</td>\n",
              "    </tr>\n",
              "    <tr>\n",
              "      <th>5</th>\n",
              "      <td>wowowowow congratulations is she pretty</td>\n",
              "      <td>she s pretty cute she invited me to dinner ton...</td>\n",
              "      <td>sos she s pretty cute she invited me to dinner...</td>\n",
              "      <td>she s pretty cute she invited me to dinner ton...</td>\n",
              "    </tr>\n",
              "  </tbody>\n",
              "</table>\n",
              "</div>\n",
              "      <button class=\"colab-df-convert\" onclick=\"convertToInteractive('df-dc0e6024-dfbf-4c4b-bb83-f33b8d32e414')\"\n",
              "              title=\"Convert this dataframe to an interactive table.\"\n",
              "              style=\"display:none;\">\n",
              "        \n",
              "  <svg xmlns=\"http://www.w3.org/2000/svg\" height=\"24px\"viewBox=\"0 0 24 24\"\n",
              "       width=\"24px\">\n",
              "    <path d=\"M0 0h24v24H0V0z\" fill=\"none\"/>\n",
              "    <path d=\"M18.56 5.44l.94 2.06.94-2.06 2.06-.94-2.06-.94-.94-2.06-.94 2.06-2.06.94zm-11 1L8.5 8.5l.94-2.06 2.06-.94-2.06-.94L8.5 2.5l-.94 2.06-2.06.94zm10 10l.94 2.06.94-2.06 2.06-.94-2.06-.94-.94-2.06-.94 2.06-2.06.94z\"/><path d=\"M17.41 7.96l-1.37-1.37c-.4-.4-.92-.59-1.43-.59-.52 0-1.04.2-1.43.59L10.3 9.45l-7.72 7.72c-.78.78-.78 2.05 0 2.83L4 21.41c.39.39.9.59 1.41.59.51 0 1.02-.2 1.41-.59l7.78-7.78 2.81-2.81c.8-.78.8-2.07 0-2.86zM5.41 20L4 18.59l7.72-7.72 1.47 1.35L5.41 20z\"/>\n",
              "  </svg>\n",
              "      </button>\n",
              "      \n",
              "  <style>\n",
              "    .colab-df-container {\n",
              "      display:flex;\n",
              "      flex-wrap:wrap;\n",
              "      gap: 12px;\n",
              "    }\n",
              "\n",
              "    .colab-df-convert {\n",
              "      background-color: #E8F0FE;\n",
              "      border: none;\n",
              "      border-radius: 50%;\n",
              "      cursor: pointer;\n",
              "      display: none;\n",
              "      fill: #1967D2;\n",
              "      height: 32px;\n",
              "      padding: 0 0 0 0;\n",
              "      width: 32px;\n",
              "    }\n",
              "\n",
              "    .colab-df-convert:hover {\n",
              "      background-color: #E2EBFA;\n",
              "      box-shadow: 0px 1px 2px rgba(60, 64, 67, 0.3), 0px 1px 3px 1px rgba(60, 64, 67, 0.15);\n",
              "      fill: #174EA6;\n",
              "    }\n",
              "\n",
              "    [theme=dark] .colab-df-convert {\n",
              "      background-color: #3B4455;\n",
              "      fill: #D2E3FC;\n",
              "    }\n",
              "\n",
              "    [theme=dark] .colab-df-convert:hover {\n",
              "      background-color: #434B5C;\n",
              "      box-shadow: 0px 1px 3px 1px rgba(0, 0, 0, 0.15);\n",
              "      filter: drop-shadow(0px 1px 2px rgba(0, 0, 0, 0.3));\n",
              "      fill: #FFFFFF;\n",
              "    }\n",
              "  </style>\n",
              "\n",
              "      <script>\n",
              "        const buttonEl =\n",
              "          document.querySelector('#df-dc0e6024-dfbf-4c4b-bb83-f33b8d32e414 button.colab-df-convert');\n",
              "        buttonEl.style.display =\n",
              "          google.colab.kernel.accessAllowed ? 'block' : 'none';\n",
              "\n",
              "        async function convertToInteractive(key) {\n",
              "          const element = document.querySelector('#df-dc0e6024-dfbf-4c4b-bb83-f33b8d32e414');\n",
              "          const dataTable =\n",
              "            await google.colab.kernel.invokeFunction('convertToInteractive',\n",
              "                                                     [key], {});\n",
              "          if (!dataTable) return;\n",
              "\n",
              "          const docLinkHtml = 'Like what you see? Visit the ' +\n",
              "            '<a target=\"_blank\" href=https://colab.research.google.com/notebooks/data_table.ipynb>data table notebook</a>'\n",
              "            + ' to learn more about interactive tables.';\n",
              "          element.innerHTML = '';\n",
              "          dataTable['output_type'] = 'display_data';\n",
              "          await google.colab.output.renderOutput(dataTable, element);\n",
              "          const docLink = document.createElement('div');\n",
              "          docLink.innerHTML = docLinkHtml;\n",
              "          element.appendChild(docLink);\n",
              "        }\n",
              "      </script>\n",
              "    </div>\n",
              "  </div>\n",
              "  "
            ],
            "text/plain": [
              "                                             message  \\\n",
              "1                                              hello   \n",
              "2                                     hi how are you   \n",
              "3                                    not bad and you   \n",
              "4  i am doing well just got engaged to my high sc...   \n",
              "5            wowowowow congratulations is she pretty   \n",
              "\n",
              "                                            response  \\\n",
              "1                                     hi how are you   \n",
              "2                                    not bad and you   \n",
              "3  i am doing well just got engaged to my high sc...   \n",
              "4            wowowowow congratulations is she pretty   \n",
              "5  she s pretty cute she invited me to dinner ton...   \n",
              "\n",
              "                                       decoder_input  \\\n",
              "1                                 sos hi how are you   \n",
              "2                                sos not bad and you   \n",
              "3  sos i am doing well just got engaged to my hig...   \n",
              "4        sos wowowowow congratulations is she pretty   \n",
              "5  sos she s pretty cute she invited me to dinner...   \n",
              "\n",
              "                                       decoder_label  \n",
              "1                                 hi how are you eo>  \n",
              "2                                not bad and you eo>  \n",
              "3  i am doing well just got engaged to my high sc...  \n",
              "4        wowowowow congratulations is she pretty eo>  \n",
              "5  she s pretty cute she invited me to dinner ton...  "
            ]
          },
          "execution_count": 15,
          "metadata": {},
          "output_type": "execute_result"
        }
      ],
      "source": [
        "df['decoder_input'] = df.response.apply(lambda x: 'sos '+x)\n",
        "df['decoder_label'] = df.response.apply(lambda x: x+' eo>')\n",
        "df.head()"
      ]
    },
    {
      "cell_type": "code",
      "execution_count": null,
      "metadata": {
        "colab": {
          "base_uri": "https://localhost:8080/"
        },
        "id": "syImjlQY1r4h",
        "outputId": "b1d127e0-73cc-46c8-c8b1-b5d262983bf8"
      },
      "outputs": [
        {
          "name": "stdout",
          "output_type": "stream",
          "text": [
            "13512 rows\n",
            "(12160,)\n",
            "(12160,)\n",
            "(12160,)\n",
            "(1352,)\n",
            "(1352,)\n",
            "(1352,)\n"
          ]
        }
      ],
      "source": [
        "encoder_input = np.array(df.message)\n",
        "decoder_input = np.array(df.decoder_input)\n",
        "decoder_label = np.array(df.decoder_label)\n",
        "\n",
        "n_rows = df.shape[0]\n",
        "print(f\"{n_rows} rows\")\n",
        "\n",
        "indices = np.arange(n_rows)\n",
        "np.random.shuffle(indices)\n",
        "\n",
        "encoder_input = encoder_input[indices]\n",
        "decoder_input = decoder_input[indices]\n",
        "decoder_label = decoder_label[indices]\n",
        "\n",
        "train_size = 0.9\n",
        "\n",
        "train_encoder_input = encoder_input[:int(n_rows*train_size)]\n",
        "train_decoder_input = decoder_input[:int(n_rows*train_size)]\n",
        "train_decoder_label = decoder_label[:int(n_rows*train_size)]\n",
        "\n",
        "test_encoder_input = encoder_input[int(n_rows*train_size):]\n",
        "test_decoder_input = decoder_input[int(n_rows*train_size):]\n",
        "test_decoder_label = decoder_label[int(n_rows*train_size):]\n",
        "\n",
        "print(train_encoder_input.shape)\n",
        "print(train_decoder_input.shape)\n",
        "print(train_decoder_label.shape)\n",
        "\n",
        "print(test_encoder_input.shape)\n",
        "print(test_decoder_input.shape)\n",
        "print(test_decoder_label.shape)"
      ]
    },
    {
      "cell_type": "code",
      "execution_count": null,
      "metadata": {
        "colab": {
          "base_uri": "https://localhost:8080/"
        },
        "id": "i5LFCCI319Sg",
        "outputId": "8996293a-bf91-452b-c3d9-114aac53b82e"
      },
      "outputs": [
        {
          "name": "stdout",
          "output_type": "stream",
          "text": [
            "3670\n",
            "3659\n"
          ]
        }
      ],
      "source": [
        "q_tok = Tokenizer()\n",
        "q_tok.fit_on_texts(train_encoder_input)\n",
        "print(len(q_tok.word_counts))\n",
        "\n",
        "a_tok = Tokenizer()\n",
        "a_tok.fit_on_texts(train_decoder_input)\n",
        "a_tok.fit_on_texts(train_decoder_label)\n",
        "print(len(a_tok.word_counts))\n",
        "\n",
        "train_encoder_input = q_tok.texts_to_sequences(train_encoder_input)\n",
        "test_encoder_input = q_tok.texts_to_sequences(test_encoder_input)\n",
        "\n",
        "train_decoder_input = a_tok.texts_to_sequences(train_decoder_input)\n",
        "test_decoder_input = a_tok.texts_to_sequences(test_decoder_input)\n",
        "\n",
        "train_decoder_label = a_tok.texts_to_sequences(train_decoder_label)\n",
        "test_decoder_label = a_tok.texts_to_sequences(test_decoder_label)\n",
        "\n",
        "question_word_size = len(q_tok.word_counts)\n",
        "question_vocab_size = question_word_size+1\n",
        "\n",
        "answer_word_size = len(a_tok.word_counts)\n",
        "answer_vocab_size = answer_word_size+1"
      ]
    },
    {
      "cell_type": "code",
      "execution_count": null,
      "metadata": {
        "colab": {
          "base_uri": "https://localhost:8080/",
          "height": 313
        },
        "id": "qt2a9xgJ1_6P",
        "outputId": "a03846d4-91f7-4139-d247-47d531b03373"
      },
      "outputs": [
        {
          "name": "stdout",
          "output_type": "stream",
          "text": [
            "maximum question sequence length >> 298\n",
            "maximum answer sequence length >> 299\n"
          ]
        },
        {
          "data": {
            "image/png": "[encoded data removed]",
            "text/plain": [
              "<Figure size 432x288 with 1 Axes>"
            ]
          },
          "metadata": {},
          "output_type": "display_data"
        },
        {
          "data": {
            "image/png": "[encoded data removed]",
            "text/plain": [
              "<Figure size 432x288 with 1 Axes>"
            ]
          },
          "metadata": {},
          "output_type": "display_data"
        }
      ],
      "source": [
        "question_lengths = [len(s) for s in train_encoder_input]\n",
        "print(f\"maximum question sequence length >> {np.max(question_lengths)}\")\n",
        "\n",
        "answer_lengths = [len(s) for s in train_decoder_input]\n",
        "print(f\"maximum answer sequence length >> {np.max(answer_lengths)}\")\n",
        "\n",
        "plt.subplot(2,1,1)\n",
        "plt.hist(question_lengths,bins=50)\n",
        "plt.show()\n",
        "\n",
        "plt.subplot(2,1,2)\n",
        "plt.hist(answer_lengths,bins=50)\n",
        "plt.show()"
      ]
    },
    {
      "cell_type": "code",
      "execution_count": null,
      "metadata": {
        "colab": {
          "base_uri": "https://localhost:8080/"
        },
        "id": "lYEJSvkT2DYZ",
        "outputId": "9a2cf945-ce3c-4156-fbb5-699dc998f04a"
      },
      "outputs": [
        {
          "name": "stdout",
          "output_type": "stream",
          "text": [
            "(12160, 298)\n",
            "(12160, 299)\n",
            "(12160, 299)\n",
            "(1352, 298)\n",
            "(1352, 299)\n",
            "(1352, 299)\n"
          ]
        }
      ],
      "source": [
        "train_encoder_input = pad_sequences(train_encoder_input,padding='post')\n",
        "train_decoder_input = pad_sequences(train_decoder_input,padding='post')\n",
        "train_decoder_label = pad_sequences(train_decoder_label,padding='post')\n",
        "\n",
        "print(train_encoder_input.shape)\n",
        "print(train_decoder_input.shape)\n",
        "print(train_decoder_label.shape)\n",
        "\n",
        "question_sequence_size = train_encoder_input.shape[1]\n",
        "answer_sequence_size = train_decoder_input.shape[1]\n",
        "\n",
        "test_encoder_input = pad_sequences(test_encoder_input,padding='post',maxlen=question_sequence_size)\n",
        "test_decoder_input = pad_sequences(test_decoder_input,padding='post',maxlen=answer_sequence_size)\n",
        "test_decoder_label = pad_sequences(test_decoder_label,padding='post',maxlen=answer_sequence_size)\n",
        "\n",
        "print(test_encoder_input.shape)\n",
        "print(test_decoder_input.shape)\n",
        "print(test_decoder_label.shape)"
      ]
    },
    {
      "cell_type": "markdown",
      "metadata": {
        "id": "eBHpv4RsoORc"
      },
      "source": [
        "# model encoder decoder without attention"
      ]
    },
    {
      "cell_type": "code",
      "execution_count": null,
      "metadata": {
        "id": "imEeMXSt2HhW"
      },
      "outputs": [],
      "source": [
        "#trainer model\n",
        "embedding_size=256\n",
        "hidden_size = 256\n",
        "\n",
        "encoder_input = Input(shape=[question_sequence_size])\n",
        "# encoder_embedding = Embedding(question_vocab_size,embedding_size,mask_zero=True,trainable=False,weights=[question_embedding_matrix])\n",
        "encoder_embedding = Embedding(question_vocab_size,embedding_size,mask_zero=True)\n",
        "encoder_embedded = encoder_embedding(encoder_input)\n",
        "\n",
        "lstm1 = Bidirectional(LSTM(hidden_size,return_sequences=True,return_state=True,dropout=0.3,recurrent_dropout=0.3))\n",
        "encoder_output1,_,_,_,_ = lstm1(encoder_embedded)\n",
        "lstm2 = Bidirectional(LSTM(hidden_size,return_sequences=True,return_state=True,dropout=0.3,recurrent_dropout=0.3))\n",
        "encoder_output2,_,_,_,_ = lstm2(encoder_output1)\n",
        "lstm3 = Bidirectional(LSTM(hidden_size,return_sequences=True,return_state=True,dropout=0.3,recurrent_dropout=0.3))\n",
        "encoder_output3,encoder_forward_h3,encoder_forward_c3,encoder_backward_h3,encoder_backward_c3= lstm3(encoder_output2)\n",
        "\n",
        "encoder_h3 = Concatenate(axis=-1)([encoder_forward_h3,encoder_backward_h3])\n",
        "encoder_dense_h = Dense(hidden_size)\n",
        "encoder_h3 = encoder_dense_h(encoder_h3)\n",
        "\n",
        "encoder_c3 = Concatenate(axis=-1)([encoder_forward_c3,encoder_backward_c3])\n",
        "encoder_dense_c = Dense(hidden_size)\n",
        "encoder_c3 = encoder_dense_c(encoder_c3)\n",
        "\n",
        "decoder_input = Input(shape=(None,))\n",
        "# decoder_embedding = Embedding(answer_vocab_size,embedding_size,mask_zero=True,trainable=False,weights=[answer_embedding_matrix])\n",
        "decoder_embedding = Embedding(answer_vocab_size,embedding_size,mask_zero=True)\n",
        "decoder_embedded = decoder_embedding(decoder_input)\n",
        "\n",
        "decoder_lstm = LSTM(hidden_size,return_sequences=True,return_state=True)\n",
        "decoder_output,_,_ = decoder_lstm(decoder_embedded,initial_state=[encoder_h3,encoder_c3])\n",
        "\n",
        "dense1 = Dense(512,activation='relu')\n",
        "decoder_output = dense1(decoder_output)\n",
        "\n",
        "decoder_softmax = Dense(answer_vocab_size,activation='softmax')\n",
        "decoder_output = decoder_softmax(decoder_output)\n",
        "\n",
        "trainer = Model([encoder_input,decoder_input],decoder_output)\n",
        "trainer.compile(loss='sparse_categorical_crossentropy',optimizer='adam',metrics=['accuracy'])"
      ]
    },
    {
      "cell_type": "code",
      "execution_count": null,
      "metadata": {
        "colab": {
          "background_save": true,
          "base_uri": "https://localhost:8080/"
        },
        "id": "3PeAU6xA2LYR",
        "outputId": "1a8aed5f-c9b7-4887-902d-e0ac0581b8e3"
      },
      "outputs": [
        {
          "name": "stdout",
          "output_type": "stream",
          "text": [
            "Epoch 1/50\n",
            "55/55 [==============================] - 441s 8s/step - loss: 0.1593 - accuracy: 0.1345 - val_loss: 0.1251 - val_accuracy: 0.1660\n",
            "Epoch 2/50\n",
            "55/55 [==============================] - 413s 8s/step - loss: 0.1234 - accuracy: 0.1827 - val_loss: 0.1147 - val_accuracy: 0.2276\n",
            "Epoch 3/50\n",
            "55/55 [==============================] - 413s 8s/step - loss: 0.1082 - accuracy: 0.2667 - val_loss: 0.1014 - val_accuracy: 0.3271\n",
            "Epoch 4/50\n",
            "55/55 [==============================] - 409s 7s/step - loss: 0.0957 - accuracy: 0.3371 - val_loss: 0.0952 - val_accuracy: 0.3815\n",
            "Epoch 5/50\n",
            "55/55 [==============================] - 413s 8s/step - loss: 0.0875 - accuracy: 0.3880 - val_loss: 0.0916 - val_accuracy: 0.3960\n",
            "Epoch 6/50\n",
            "55/55 [==============================] - 412s 7s/step - loss: 0.0835 - accuracy: 0.3945 - val_loss: 0.0900 - val_accuracy: 0.3812\n",
            "Epoch 7/50\n",
            "55/55 [==============================] - 411s 7s/step - loss: 0.0797 - accuracy: 0.4012 - val_loss: 0.0878 - val_accuracy: 0.4102\n",
            "Epoch 8/50\n",
            "55/55 [==============================] - 410s 7s/step - loss: 0.0771 - accuracy: 0.4180 - val_loss: 0.0868 - val_accuracy: 0.4189\n",
            "Epoch 9/50\n",
            "55/55 [==============================] - 411s 7s/step - loss: 0.0735 - accuracy: 0.4334 - val_loss: 0.0863 - val_accuracy: 0.4232\n",
            "Epoch 10/50\n",
            "55/55 [==============================] - 412s 7s/step - loss: 0.0710 - accuracy: 0.4457 - val_loss: 0.0855 - val_accuracy: 0.4281\n",
            "Epoch 11/50\n",
            "55/55 [==============================] - 412s 7s/step - loss: 0.0705 - accuracy: 0.4494 - val_loss: 0.0868 - val_accuracy: 0.4310\n",
            "Epoch 12/50\n",
            "55/55 [==============================] - 414s 8s/step - loss: 0.0664 - accuracy: 0.4639 - val_loss: 0.0861 - val_accuracy: 0.4381\n",
            "Epoch 13/50\n",
            "55/55 [==============================] - 410s 7s/step - loss: 0.0645 - accuracy: 0.4764 - val_loss: 0.0862 - val_accuracy: 0.4398\n",
            "Epoch 14/50\n",
            "55/55 [==============================] - 411s 7s/step - loss: 0.0628 - accuracy: 0.4816 - val_loss: 0.0861 - val_accuracy: 0.4389\n",
            "Epoch 15/50\n",
            "55/55 [==============================] - 416s 8s/step - loss: 0.0611 - accuracy: 0.4917 - val_loss: 0.0865 - val_accuracy: 0.4406\n",
            "Epoch 16/50\n",
            "55/55 [==============================] - 413s 8s/step - loss: 0.0595 - accuracy: 0.4976 - val_loss: 0.0866 - val_accuracy: 0.4395\n",
            "Epoch 17/50\n",
            "55/55 [==============================] - 414s 8s/step - loss: 0.0580 - accuracy: 0.5072 - val_loss: 0.0864 - val_accuracy: 0.4460\n",
            "Epoch 18/50\n",
            "55/55 [==============================] - 412s 7s/step - loss: 0.0564 - accuracy: 0.5161 - val_loss: 0.0876 - val_accuracy: 0.4408\n",
            "Epoch 19/50\n",
            "55/55 [==============================] - 413s 8s/step - loss: 0.0553 - accuracy: 0.5225 - val_loss: 0.0880 - val_accuracy: 0.4402\n",
            "Epoch 20/50\n",
            "55/55 [==============================] - 413s 8s/step - loss: 0.0537 - accuracy: 0.5297 - val_loss: 0.0883 - val_accuracy: 0.4428\n",
            "Epoch 21/50\n",
            "55/55 [==============================] - 414s 8s/step - loss: 0.0525 - accuracy: 0.5370 - val_loss: 0.0886 - val_accuracy: 0.4443\n",
            "Epoch 22/50\n",
            "55/55 [==============================] - 416s 8s/step - loss: 0.0513 - accuracy: 0.5459 - val_loss: 0.0894 - val_accuracy: 0.4410\n",
            "Epoch 23/50\n",
            "55/55 [==============================] - 414s 8s/step - loss: 0.0503 - accuracy: 0.5493 - val_loss: 0.0895 - val_accuracy: 0.4444\n",
            "Epoch 24/50\n",
            "55/55 [==============================] - 410s 7s/step - loss: 0.0492 - accuracy: 0.5569 - val_loss: 0.0911 - val_accuracy: 0.4444\n",
            "Epoch 25/50\n",
            "55/55 [==============================] - 408s 7s/step - loss: 0.0481 - accuracy: 0.5621 - val_loss: 0.0908 - val_accuracy: 0.4450\n",
            "Epoch 26/50\n",
            "55/55 [==============================] - 414s 8s/step - loss: 0.0471 - accuracy: 0.5688 - val_loss: 0.0910 - val_accuracy: 0.4436\n",
            "Epoch 27/50\n",
            " 7/55 [==>...........................] - ETA: 5:55 - loss: 0.0445 - accuracy: 0.5818"
          ]
        }
      ],
      "source": [
        "train_hist = trainer.fit([train_encoder_input,train_decoder_input],train_decoder_label,epochs=50,validation_split=0.1,batch_size=200)"
      ]
    },
    {
      "cell_type": "code",
      "execution_count": null,
      "metadata": {
        "id": "NUedPOji2NGM"
      },
      "outputs": [],
      "source": [
        "from keras.utils.vis_utils import plot_model\n",
        "#generator model\n",
        "\n",
        "gen_encoder = Model(encoder_input,[encoder_h3,encoder_c3])\n",
        "\n",
        "gen_decoder_h_input = Input(shape=[hidden_size])\n",
        "gen_decoder_c_input = Input(shape=[hidden_size])\n",
        "\n",
        "gen_decoder_embedded = decoder_embedding(decoder_input)\n",
        "gen_decoder_output,gen_decoder_h,gen_decoder_c = decoder_lstm(gen_decoder_embedded,initial_state=[gen_decoder_h_input,gen_decoder_c_input])\n",
        "gen_decoder_output = dense1(gen_decoder_output)\n",
        "gen_decoder_output = decoder_softmax(gen_decoder_output)\n",
        "\n",
        "gen_decoder = Model([decoder_input]+[gen_decoder_h_input,gen_decoder_c_input],[gen_decoder_output]+[gen_decoder_h,gen_decoder_c])\n",
        "\n",
        "plot_model(gen_encoder)"
      ]
    },
    {
      "cell_type": "code",
      "execution_count": null,
      "metadata": {
        "id": "h4abbTr02Ovi"
      },
      "outputs": [],
      "source": [
        "plot_model(gen_decoder)"
      ]
    },
    {
      "cell_type": "code",
      "execution_count": null,
      "metadata": {
        "id": "0lpy-hvM2QFv"
      },
      "outputs": [],
      "source": [
        "def generate_from_input(encoder_input):\n",
        "    h,c = gen_encoder.predict(encoder_input)\n",
        "    \n",
        "    decoder_seq = np.zeros((1,1))\n",
        "    decoder_seq[0,0] = a_tok.word_index['sos']\n",
        "    \n",
        "    generated_sent = ''\n",
        "    stop_condition= False\n",
        "    \n",
        "    while not stop_condition:\n",
        "        output,h_state,c_state = gen_decoder.predict([decoder_seq]+[h,c])\n",
        "        sampled_index = np.argmax(output[0,-1,:])\n",
        "        sampled_word = a_tok.index_word[sampled_index]\n",
        "        \n",
        "        if sampled_word != 'eos':\n",
        "            generated_sent = generated_sent + sampled_word + ' '\n",
        "        \n",
        "        if sampled_word == 'eos' or len(generated_sent) >= answer_sequence_size:\n",
        "            stop_condition=True\n",
        "        \n",
        "        decoder_seq = np.zeros((1,1))\n",
        "        decoder_seq[0,0] = sampled_index\n",
        "        h,c = h_state,c_state\n",
        "        \n",
        "    return generated_sent.strip()\n",
        "\n",
        "print(generate_from_input(train_encoder_input[0].reshape(1,question_sequence_size,-1)))\n",
        "print(generate_from_input(train_encoder_input[100].reshape(1,question_sequence_size,-1)))\n",
        "print(generate_from_input(train_encoder_input[2050].reshape(1,question_sequence_size,-1)))"
      ]
    },
    {
      "cell_type": "code",
      "execution_count": null,
      "metadata": {
        "id": "1KZ7i3lj2Rfm"
      },
      "outputs": [],
      "source": [
        "def seq2question(encoder_input):\n",
        "    ret=[q_tok.index_word[idx] for idx in encoder_input if idx != 0]\n",
        "    return ' '.join(ret)\n",
        "\n",
        "def seq2answer(decoder_input):\n",
        "    ret = []\n",
        "    for idx in decoder_input:\n",
        "        if idx != 0:\n",
        "            if a_tok.index_word[idx] != 'sos' and a_tok.index_word[idx] != 'eos':\n",
        "                ret.append(a_tok.index_word[idx])\n",
        "                \n",
        "    return ' '.join(ret)"
      ]
    },
    {
      "cell_type": "code",
      "execution_count": null,
      "metadata": {
        "id": "wrBpaTJE2TBD"
      },
      "outputs": [],
      "source": [
        "#results on train dataset\n",
        "sample_indices= [5,26,7,11,735,662,115,321]\n",
        "\n",
        "for idx in sample_indices:\n",
        "    generated_sent = generate_from_input(train_encoder_input[idx:idx+1])\n",
        "    print(f\"Question >> {seq2question(train_encoder_input[idx])}\")\n",
        "    print(f\"Answer(Generated) >> {generated_sent}\")\n",
        "    print(f\"Answer(Label) >> {seq2answer(train_decoder_input[idx])}\")\n",
        "    print(\"=\"*45)\n",
        "    print(\"\\n\")\n",
        "    "
      ]
    },
    {
      "cell_type": "code",
      "execution_count": null,
      "metadata": {
        "id": "0wOIzTp42Ur2"
      },
      "outputs": [],
      "source": [
        "#results on test dataset\n",
        "sample_indices= [159,29,44,33]\n",
        "\n",
        "for idx in sample_indices:\n",
        "    generated_sent = generate_from_input(test_encoder_input[idx:idx+1])\n",
        "    print(f\"Question >> {seq2question(test_encoder_input[idx])}\")\n",
        "    print(f\"Answer(Generated) >> {generated_sent}\")\n",
        "    print(f\"Answer(Label) >> {seq2answer(test_decoder_input[idx])}\")\n",
        "    print(\"=\"*45)\n",
        "    print(\"\\n\")\n",
        "    "
      ]
    },
    {
      "cell_type": "code",
      "execution_count": null,
      "metadata": {
        "id": "_Xm7CXWwzCqA"
      },
      "outputs": [],
      "source": [
        "gen_encoder.save(\"/content/encoder_without_attention.h5\")\n",
        "gen_decoder.save(\"/content/decoder_without_attention.h5\")"
      ]
    },
    {
      "cell_type": "markdown",
      "metadata": {
        "id": "TMARnTP-onmc"
      },
      "source": [
        "#json to excel"
      ]
    },
    {
      "cell_type": "code",
      "execution_count": null,
      "metadata": {
        "id": "pSqQAy67vD94"
      },
      "outputs": [],
      "source": [
        "df=pd.read_json('content/data.json')\n",
        "x=df.copy()\n",
        "x.drop(['bot_profile'\t,'user_profile','start_time','end_time','eval_score','profile_match','participant1_id','participant2_id'],axis=1,inplace=True)\n",
        "print(x.head())\n",
        "x.loc[0]\n",
        "x.to_excel('/content/xdata.xlsx')\n",
        "x.to_json('/content/xdata.json')\n",
        "d = pd.read_json('/content/xdata.json') \n",
        "d.head()"
      ]
    },
    {
      "cell_type": "code",
      "execution_count": null,
      "metadata": {
        "id": "ETjS9k005ERn"
      },
      "outputs": [],
      "source": [
        ""
      ]
    }
  ],
  "metadata": {
    "accelerator": "TPU",
    "colab": {
      "collapsed_sections": [],
      "name": "Deep_learning_project.ipynb",
      "provenance": [],
      "authorship_tag": "ABX9TyN3gaNDCY8GkfDezCohOPBm",
      "include_colab_link": true
    },
    "kernelspec": {
      "display_name": "Python 3",
      "name": "python3"
    },
    "language_info": {
      "name": "python"
    }
  },
  "nbformat": 4,
  "nbformat_minor": 0
}